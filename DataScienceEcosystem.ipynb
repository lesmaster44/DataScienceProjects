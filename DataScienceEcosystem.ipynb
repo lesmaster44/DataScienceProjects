{
 "cells": [
  {
   "cell_type": "markdown",
   "id": "1c097709-b452-4513-8bf3-baa81e08b5bf",
   "metadata": {},
   "source": [
    "# Data Science Tools and Ecosystem"
   ]
  },
  {
   "cell_type": "markdown",
   "id": "7154313c-9814-40d1-a896-91fd4860c078",
   "metadata": {},
   "source": [
    "In this notebook, Data Science Tools and Ecosystem are summarized."
   ]
  },
  {
   "cell_type": "markdown",
   "id": "69b7fd7d-35f8-41fc-879c-d1fc48cfad6f",
   "metadata": {},
   "source": [
    "**Objectives:**\n",
    "list popular languages used for Data Science\n",
    "- Swift\n",
    "- Julia\n",
    "- Scala\n",
    "- Java\n",
    "- C++"
   ]
  },
  {
   "cell_type": "markdown",
   "id": "b84c47a5-61ee-410d-8147-a831c85b4cbe",
   "metadata": {},
   "source": [
    "some popular languages that Data Scientists use are:\n",
    "1. Python\n",
    "2. JavaScript\n",
    "3. R"
   ]
  },
  {
   "cell_type": "markdown",
   "id": "93467077-64b3-4392-991b-adba56b3b729",
   "metadata": {},
   "source": [
    "some of the commonly used libraries used by Data Scientists include\n",
    "- NumPy\n",
    "- Panda\n",
    "- SciPy"
   ]
  },
  {
   "cell_type": "markdown",
   "id": "d401cead-2336-4cb1-ad78-652bb58a3b10",
   "metadata": {},
   "source": [
    "|Data Science Tools|\n",
    "--------------------\n",
    "|Jupyter Notebooks|\n",
    "|R-Studio|\n",
    "|Anaconda|"
   ]
  },
  {
   "cell_type": "markdown",
   "id": "043b75ac-f2f8-48d4-b500-488bfb987785",
   "metadata": {},
   "source": [
    "### Below are few examples of evaluating arithmetic expressions in Python"
   ]
  },
  {
   "cell_type": "code",
   "execution_count": 51,
   "id": "bcefd55b-a14f-4214-8f9d-d3d9f62629b4",
   "metadata": {},
   "outputs": [
    {
     "data": {
      "text/plain": [
       "17"
      ]
     },
     "execution_count": 51,
     "metadata": {},
     "output_type": "execute_result"
    }
   ],
   "source": [
    "#  This is simple arithmetic expression to multiply then add integers \n",
    "(3*4)+5"
   ]
  },
  {
   "cell_type": "code",
   "execution_count": 53,
   "id": "5458f4ec-6860-49d3-b49c-382df1c7e1a8",
   "metadata": {},
   "outputs": [
    {
     "data": {
      "text/plain": [
       "3.3333333333333335"
      ]
     },
     "execution_count": 53,
     "metadata": {},
     "output_type": "execute_result"
    }
   ],
   "source": [
    "# This will cornvert 200 minutes to hours by dividing by 60 seconds\n",
    "(200/60)"
   ]
  },
  {
   "cell_type": "markdown",
   "id": "11e7eb29-d6da-49b9-a0a9-043d7f6f57bc",
   "metadata": {},
   "source": [
    "## Author\n",
    "Maphuti L. Phahledi"
   ]
  },
  {
   "cell_type": "code",
   "execution_count": null,
   "id": "cba733b9-edc2-4faa-a7fa-bc48b212f28e",
   "metadata": {},
   "outputs": [],
   "source": []
  }
 ],
 "metadata": {
  "kernelspec": {
   "display_name": "anaconda-panel-2023.05-py310",
   "language": "python",
   "name": "conda-env-anaconda-panel-2023.05-py310-py"
  },
  "language_info": {
   "codemirror_mode": {
    "name": "ipython",
    "version": 3
   },
   "file_extension": ".py",
   "mimetype": "text/x-python",
   "name": "python",
   "nbconvert_exporter": "python",
   "pygments_lexer": "ipython3",
   "version": "3.11.5"
  }
 },
 "nbformat": 4,
 "nbformat_minor": 5
}
